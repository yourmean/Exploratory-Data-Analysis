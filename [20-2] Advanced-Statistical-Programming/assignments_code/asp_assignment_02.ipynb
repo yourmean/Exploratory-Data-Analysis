{
 "cells": [
  {
   "cell_type": "markdown",
   "metadata": {},
   "source": [
    "### 고급통계프로그래밍 과제 # 2\n",
    "\n",
    "### 2017580034 통계학과 이유민"
   ]
  },
  {
   "cell_type": "markdown",
   "metadata": {},
   "source": [
    "---\n",
    "\n",
    "### Ex 3.4"
   ]
  },
  {
   "cell_type": "code",
   "execution_count": 1,
   "metadata": {},
   "outputs": [],
   "source": [
    "def do_twice(f):\n",
    "    f()\n",
    "    f()"
   ]
  },
  {
   "cell_type": "code",
   "execution_count": 2,
   "metadata": {
    "scrolled": true
   },
   "outputs": [
    {
     "name": "stdout",
     "output_type": "stream",
     "text": [
      "spam\n",
      "spam\n"
     ]
    }
   ],
   "source": [
    "#3.4-1\n",
    "def print_spam():\n",
    "    print ('spam')\n",
    "    \n",
    "do_twice(print_spam) #test"
   ]
  },
  {
   "cell_type": "code",
   "execution_count": 3,
   "metadata": {},
   "outputs": [],
   "source": [
    "#3.4-2\n",
    "def do_twice(f,x): #two arguments\n",
    "    f(x)\n",
    "    f(x)"
   ]
  },
  {
   "cell_type": "code",
   "execution_count": 4,
   "metadata": {},
   "outputs": [
    {
     "name": "stdout",
     "output_type": "stream",
     "text": [
      "spam\n",
      "spam\n"
     ]
    }
   ],
   "source": [
    "#3.4-3 \n",
    "def print_twice(a):\n",
    "    for i in range(2): #2회 실행\n",
    "        print(a)\n",
    "\n",
    "print_twice('spam')"
   ]
  },
  {
   "cell_type": "code",
   "execution_count": 5,
   "metadata": {},
   "outputs": [
    {
     "name": "stdout",
     "output_type": "stream",
     "text": [
      "spam\n",
      "spam\n",
      "spam\n",
      "spam\n"
     ]
    }
   ],
   "source": [
    "#4.4\n",
    "do_twice(print_twice, 'spam')"
   ]
  },
  {
   "cell_type": "code",
   "execution_count": 6,
   "metadata": {
    "scrolled": true
   },
   "outputs": [
    {
     "name": "stdout",
     "output_type": "stream",
     "text": [
      "spam\n",
      "spam\n",
      "spam\n",
      "spam\n",
      "spam\n",
      "spam\n",
      "spam\n",
      "spam\n"
     ]
    }
   ],
   "source": [
    "#4.5\n",
    "def do_four(f,x):  #do_four function takes a function object and a value\n",
    "    for i in range(4): #4회 실행\n",
    "        f(x)\n",
    "\n",
    "do_four(print_twice, 'spam') #print_twice를 4회 실행 > spam이 8번 print"
   ]
  },
  {
   "cell_type": "markdown",
   "metadata": {},
   "source": [
    "---\n",
    "\n",
    "### Ex 5.3"
   ]
  },
  {
   "cell_type": "code",
   "execution_count": 7,
   "metadata": {},
   "outputs": [],
   "source": [
    "#5.3-1\n",
    "def check_fermat(a,b,c,n):\n",
    "    \n",
    "    # a, b, c, n 인자로 페르마의 정리 성립 여부 판단\n",
    "    if n>2 and a**n + b**n == c**n:\n",
    "        print('Holy smokes, Fermat was wrong!')  #성립X\n",
    "    else:\n",
    "        print(\"No, that doesn't work.\")  #성립O"
   ]
  },
  {
   "cell_type": "code",
   "execution_count": 8,
   "metadata": {},
   "outputs": [
    {
     "name": "stdout",
     "output_type": "stream",
     "text": [
      "No, that doesn't work.\n"
     ]
    }
   ],
   "source": [
    "check_fermat(4,6,3,2) #check"
   ]
  },
  {
   "cell_type": "code",
   "execution_count": 9,
   "metadata": {},
   "outputs": [],
   "source": [
    "#5.3-2\n",
    "def check_fermat_2():\n",
    "    \n",
    "    #a, b, c, n값 입력 후 정수변환\n",
    "    a = int(input())\n",
    "    b = int(input())\n",
    "    c = int(input())\n",
    "    n = int(input())\n",
    "    \n",
    "    # check_fermat 으로 페르마의 정리 만족여부 검사힌 결과 return\n",
    "    return check_fermat(a,b,c,n)"
   ]
  },
  {
   "cell_type": "code",
   "execution_count": 10,
   "metadata": {
    "scrolled": false
   },
   "outputs": [
    {
     "name": "stdout",
     "output_type": "stream",
     "text": [
      "4\n",
      "3\n",
      "5\n",
      "6\n",
      "No, that doesn't work.\n"
     ]
    }
   ],
   "source": [
    "check_fermat_2() #check"
   ]
  }
 ],
 "metadata": {
  "kernelspec": {
   "display_name": "Python 3",
   "language": "python",
   "name": "python3"
  },
  "language_info": {
   "codemirror_mode": {
    "name": "ipython",
    "version": 3
   },
   "file_extension": ".py",
   "mimetype": "text/x-python",
   "name": "python",
   "nbconvert_exporter": "python",
   "pygments_lexer": "ipython3",
   "version": "3.8.3"
  }
 },
 "nbformat": 4,
 "nbformat_minor": 4
}
