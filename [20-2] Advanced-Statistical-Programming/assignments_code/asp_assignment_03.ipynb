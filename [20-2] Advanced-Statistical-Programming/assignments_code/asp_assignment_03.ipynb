{
 "cells": [
  {
   "cell_type": "markdown",
   "metadata": {},
   "source": [
    "---\n",
    "\n",
    "### Ex 6.7"
   ]
  },
  {
   "cell_type": "code",
   "execution_count": 1,
   "metadata": {},
   "outputs": [],
   "source": [
    "def is_power(a,b):\n",
    "    \n",
    "####1.나누어 떨어지는지 체크\n",
    "    if (a%b !=0):\n",
    "        return False\n",
    "####2.a/b==1 인지 체크\n",
    "    elif (a/b==1):\n",
    "        return True\n",
    "####3. 1, 2 중 하나를 만족 할 때까지 반복\n",
    "    else:\n",
    "        return is_power(a/b,b)"
   ]
  },
  {
   "cell_type": "code",
   "execution_count": 2,
   "metadata": {
    "scrolled": true
   },
   "outputs": [
    {
     "data": {
      "text/plain": [
       "True"
      ]
     },
     "execution_count": 2,
     "metadata": {},
     "output_type": "execute_result"
    }
   ],
   "source": [
    "is_power(81,3)"
   ]
  },
  {
   "cell_type": "code",
   "execution_count": 3,
   "metadata": {},
   "outputs": [
    {
     "data": {
      "text/plain": [
       "False"
      ]
     },
     "execution_count": 3,
     "metadata": {},
     "output_type": "execute_result"
    }
   ],
   "source": [
    "is_power(4,17)"
   ]
  },
  {
   "cell_type": "markdown",
   "metadata": {},
   "source": [
    "---\n",
    "\n",
    "### Ex 6.8\n"
   ]
  },
  {
   "cell_type": "code",
   "execution_count": 4,
   "metadata": {},
   "outputs": [],
   "source": [
    "def gcd(a,b):\n",
    "\n",
    "####1.기저 사례: gcd(a,0)=a\n",
    "    if b==0:\n",
    "        return a\n",
    "####2.r에 대해 gcd(a,b) = gcd(b,r)\n",
    "    else:\n",
    "        r = a%b\n",
    "        if r == 0:\n",
    "            return b\n",
    "        else:\n",
    "            return gcd(b, r)"
   ]
  },
  {
   "cell_type": "code",
   "execution_count": 5,
   "metadata": {},
   "outputs": [
    {
     "data": {
      "text/plain": [
       "21"
      ]
     },
     "execution_count": 5,
     "metadata": {},
     "output_type": "execute_result"
    }
   ],
   "source": [
    "gcd(252, 105)"
   ]
  },
  {
   "cell_type": "markdown",
   "metadata": {},
   "source": [
    "---\n",
    "\n",
    "### Ex 7.3\n"
   ]
  },
  {
   "cell_type": "code",
   "execution_count": 6,
   "metadata": {},
   "outputs": [],
   "source": [
    "## [sqaureroot]절 함수 구현\n",
    "from random import randint\n",
    "def square_root(a):\n",
    "    i=randint(1,100)\n",
    "    x =  i* float(a)\n",
    "    epsilon = 0.000001\n",
    "    while True:\n",
    "        y = (x + a/x) / 2\n",
    "        if abs(y-x) < epsilon:\n",
    "            break\n",
    "        x = y\n",
    "    return x"
   ]
  },
  {
   "cell_type": "code",
   "execution_count": 7,
   "metadata": {},
   "outputs": [],
   "source": [
    "# test_sqaure_root 함수\n",
    "from math import sqrt\n",
    "def test_square_root(a):\n",
    "    for i in range(1,a):\n",
    "        a = float(i)\n",
    "        ans1 = square_root(i)\n",
    "        ans2 = sqrt(i)\n",
    "        b = abs(ans1-ans2)\n",
    "        print('%-2.2f, %-2.9f, %-2.9f, %-2.9f' %(a, ans1, ans2, b))"
   ]
  },
  {
   "cell_type": "code",
   "execution_count": 8,
   "metadata": {},
   "outputs": [
    {
     "name": "stdout",
     "output_type": "stream",
     "text": [
      "1.00, 1.000000000, 1.000000000, 0.000000000\n",
      "2.00, 1.414213564, 1.414213562, 0.000000002\n",
      "3.00, 1.732051414, 1.732050808, 0.000000606\n",
      "4.00, 2.000000155, 2.000000000, 0.000000155\n",
      "5.00, 2.236067978, 2.236067977, 0.000000000\n",
      "6.00, 2.449489747, 2.449489743, 0.000000004\n",
      "7.00, 2.645751571, 2.645751311, 0.000000260\n",
      "8.00, 2.828427309, 2.828427125, 0.000000184\n",
      "9.00, 3.000000001, 3.000000000, 0.000000001\n"
     ]
    }
   ],
   "source": [
    "test_square_root(10)"
   ]
  },
  {
   "cell_type": "markdown",
   "metadata": {},
   "source": [
    "---\n",
    "\n",
    "### Ex 7.4\n"
   ]
  },
  {
   "cell_type": "code",
   "execution_count": 9,
   "metadata": {},
   "outputs": [],
   "source": [
    "from math import *\n",
    "def eval_loop():\n",
    "    while True:\n",
    "        x = str(input('Enter what you want:')) # 입력받고\n",
    "        if x == 'done' : break #done 입력시 break\n",
    "        print(eval(x)) #그 외의 경우 eval(x) print"
   ]
  },
  {
   "cell_type": "code",
   "execution_count": 10,
   "metadata": {},
   "outputs": [
    {
     "name": "stdout",
     "output_type": "stream",
     "text": [
      "Enter what you want:12+43/4\n",
      "22.75\n",
      "Enter what you want:334+21-32/4\n",
      "347.0\n",
      "Enter what you want:3/17\n",
      "0.17647058823529413\n",
      "Enter what you want:1\n",
      "1\n",
      "Enter what you want:done\n"
     ]
    }
   ],
   "source": [
    "eval_loop()"
   ]
  }
 ],
 "metadata": {
  "kernelspec": {
   "display_name": "Python 3",
   "language": "python",
   "name": "python3"
  },
  "language_info": {
   "codemirror_mode": {
    "name": "ipython",
    "version": 3
   },
   "file_extension": ".py",
   "mimetype": "text/x-python",
   "name": "python",
   "nbconvert_exporter": "python",
   "pygments_lexer": "ipython3",
   "version": "3.8.3"
  }
 },
 "nbformat": 4,
 "nbformat_minor": 4
}
