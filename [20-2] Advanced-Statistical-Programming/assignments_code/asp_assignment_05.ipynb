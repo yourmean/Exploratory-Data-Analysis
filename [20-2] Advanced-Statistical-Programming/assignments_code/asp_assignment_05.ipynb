{
 "cells": [
  {
   "cell_type": "markdown",
   "metadata": {},
   "source": [
    "### 고급통계프로그래밍 # 5\n",
    "\n",
    "### 2017580034 통계학과 이유민"
   ]
  },
  {
   "cell_type": "markdown",
   "metadata": {},
   "source": [
    "---\n",
    "### Ex10.6"
   ]
  },
  {
   "cell_type": "code",
   "execution_count": 1,
   "metadata": {},
   "outputs": [],
   "source": [
    "def is_sorted(l):       # list l을 받은 후 \n",
    "    if l == sorted(l):  # 오름차순으로 정렬한 리스트와 같은지 확인\n",
    "        return True    # 같은 경우는 True, \n",
    "    else:\n",
    "        return False   # 아니면 False 반환"
   ]
  },
  {
   "cell_type": "code",
   "execution_count": 2,
   "metadata": {},
   "outputs": [
    {
     "data": {
      "text/plain": [
       "True"
      ]
     },
     "execution_count": 2,
     "metadata": {},
     "output_type": "execute_result"
    }
   ],
   "source": [
    "is_sorted([1,2,2])"
   ]
  },
  {
   "cell_type": "code",
   "execution_count": 3,
   "metadata": {},
   "outputs": [
    {
     "data": {
      "text/plain": [
       "False"
      ]
     },
     "execution_count": 3,
     "metadata": {},
     "output_type": "execute_result"
    }
   ],
   "source": [
    "is_sorted(['b', 'a']) # =! ['a','b']"
   ]
  },
  {
   "cell_type": "markdown",
   "metadata": {},
   "source": [
    "---\n",
    "### Ex10.7"
   ]
  },
  {
   "cell_type": "code",
   "execution_count": 4,
   "metadata": {},
   "outputs": [],
   "source": [
    "def is_anagram(x, y):           # 문자열 x, y를 받아서\n",
    "    if sorted(x) == sorted(y):  # 각각을 정렬한 리스트가 동일한지 확인\n",
    "        return True            # 동일하다면 : 애너그램 > True를,\n",
    "    else:\n",
    "        return False           # 그렇지 않으면 : 애너그램X > False 반환"
   ]
  },
  {
   "cell_type": "code",
   "execution_count": 5,
   "metadata": {},
   "outputs": [
    {
     "data": {
      "text/plain": [
       "True"
      ]
     },
     "execution_count": 5,
     "metadata": {},
     "output_type": "execute_result"
    }
   ],
   "source": [
    "is_anagram('parrot', 'raptor')"
   ]
  },
  {
   "cell_type": "code",
   "execution_count": 6,
   "metadata": {},
   "outputs": [
    {
     "data": {
      "text/plain": [
       "False"
      ]
     },
     "execution_count": 6,
     "metadata": {},
     "output_type": "execute_result"
    }
   ],
   "source": [
    "is_anagram('parrot', 'carrot')"
   ]
  },
  {
   "cell_type": "markdown",
   "metadata": {},
   "source": [
    "---\n",
    "### Ex11.2"
   ]
  },
  {
   "cell_type": "code",
   "execution_count": 7,
   "metadata": {},
   "outputs": [],
   "source": [
    "# original function\n",
    "def histogram(s):\n",
    "    d = dict()\n",
    "    for c in s:\n",
    "        if c not in d:\n",
    "            d[c] = 1\n",
    "        else:\n",
    "            d[c] += 1\n",
    "    return d"
   ]
  },
  {
   "cell_type": "code",
   "execution_count": 8,
   "metadata": {},
   "outputs": [
    {
     "data": {
      "text/plain": [
       "{'c': 1, 'a': 1, 'r': 2, 'o': 1, 't': 1}"
      ]
     },
     "execution_count": 8,
     "metadata": {},
     "output_type": "execute_result"
    }
   ],
   "source": [
    "histogram('carrot')"
   ]
  },
  {
   "cell_type": "code",
   "execution_count": 9,
   "metadata": {},
   "outputs": [],
   "source": [
    "# modified function\n",
    "# 조건 1)get 사용, 2)if문 제거\n",
    "\n",
    "def histogram(s):\n",
    "    d = dict()     # 딕셔너리 생성\n",
    "    for c in s:   # for문을 돌면서\n",
    "        d[c] = d.get(c, 0) + 1  # 각 키를 발견할 때마다 +1 한 결과를 저장해서 \n",
    "    return d  # 반환"
   ]
  },
  {
   "cell_type": "code",
   "execution_count": 10,
   "metadata": {},
   "outputs": [
    {
     "data": {
      "text/plain": [
       "{'c': 1, 'a': 1, 'r': 2, 'o': 1, 't': 1}"
      ]
     },
     "execution_count": 10,
     "metadata": {},
     "output_type": "execute_result"
    }
   ],
   "source": [
    "histogram('carrot')"
   ]
  },
  {
   "cell_type": "markdown",
   "metadata": {},
   "source": [
    "---\n",
    "### Ex11.3"
   ]
  },
  {
   "cell_type": "code",
   "execution_count": 11,
   "metadata": {},
   "outputs": [],
   "source": [
    "# original function\n",
    "# 딕셔너리의 키를 탐색하고, 각 키와 대응하는 값 인쇄\n",
    "def print_hist(h):\n",
    "    for c in h:\n",
    "        print(c, h[c])"
   ]
  },
  {
   "cell_type": "code",
   "execution_count": 12,
   "metadata": {},
   "outputs": [],
   "source": [
    "# modified function\n",
    "# 키와 값을 알파벳순으로 인쇄\n",
    "\n",
    "def print_hist(h):\n",
    "    new = sorted(h.items()) # items()로 키-값 쌍을 모두 가져온 후 정렬\n",
    "    for i in new:\n",
    "        print(i)  # for문을 돌면서 정렬한 순서(알파벳순)대로 반환"
   ]
  },
  {
   "cell_type": "code",
   "execution_count": 13,
   "metadata": {},
   "outputs": [
    {
     "name": "stdout",
     "output_type": "stream",
     "text": [
      "('a', 1)\n",
      "('o', 1)\n",
      "('p', 1)\n",
      "('r', 2)\n",
      "('t', 1)\n"
     ]
    }
   ],
   "source": [
    "print_hist(histogram('parrot'))"
   ]
  },
  {
   "cell_type": "markdown",
   "metadata": {},
   "source": [
    "---\n",
    "### Ex11.4"
   ]
  },
  {
   "cell_type": "code",
   "execution_count": 14,
   "metadata": {},
   "outputs": [],
   "source": [
    "def reverse_lookup(d,v):\n",
    "    ans = []\n",
    "    for i in d:            # for문을 돌면서\n",
    "        if d[i] == v:      # v와  딕셔너리의 값이 일치하면\n",
    "            ans.append(i)  # ans에 append\n",
    "    return ans # ans 반환, ans에 append된 게 없으면 빈리스트 그대로 반환"
   ]
  },
  {
   "cell_type": "code",
   "execution_count": 15,
   "metadata": {},
   "outputs": [
    {
     "data": {
      "text/plain": [
       "['p', 'a', 'o', 't']"
      ]
     },
     "execution_count": 15,
     "metadata": {},
     "output_type": "execute_result"
    }
   ],
   "source": [
    "reverse_lookup(histogram('parrot'), 1)"
   ]
  },
  {
   "cell_type": "code",
   "execution_count": 16,
   "metadata": {},
   "outputs": [
    {
     "data": {
      "text/plain": [
       "['r']"
      ]
     },
     "execution_count": 16,
     "metadata": {},
     "output_type": "execute_result"
    }
   ],
   "source": [
    "reverse_lookup(histogram('parrot'), 2)"
   ]
  },
  {
   "cell_type": "code",
   "execution_count": 17,
   "metadata": {},
   "outputs": [
    {
     "data": {
      "text/plain": [
       "[]"
      ]
     },
     "execution_count": 17,
     "metadata": {},
     "output_type": "execute_result"
    }
   ],
   "source": [
    "reverse_lookup(histogram('parrot'), 3)"
   ]
  }
 ],
 "metadata": {
  "kernelspec": {
   "display_name": "Python 3",
   "language": "python",
   "name": "python3"
  },
  "language_info": {
   "codemirror_mode": {
    "name": "ipython",
    "version": 3
   },
   "file_extension": ".py",
   "mimetype": "text/x-python",
   "name": "python",
   "nbconvert_exporter": "python",
   "pygments_lexer": "ipython3",
   "version": "3.7.7"
  }
 },
 "nbformat": 4,
 "nbformat_minor": 4
}
