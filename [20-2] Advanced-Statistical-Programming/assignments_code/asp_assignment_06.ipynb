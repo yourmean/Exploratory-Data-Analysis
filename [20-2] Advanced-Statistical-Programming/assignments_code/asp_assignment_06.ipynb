{
 "cells": [
  {
   "cell_type": "markdown",
   "metadata": {},
   "source": [
    "### 고급통계프로그래밍 # 6\n",
    "\n",
    "### 2017580034 통계학과 이유민"
   ]
  },
  {
   "cell_type": "markdown",
   "metadata": {},
   "source": [
    "---\n",
    "### (#1) Ex12.1"
   ]
  },
  {
   "cell_type": "code",
   "execution_count": 1,
   "metadata": {},
   "outputs": [],
   "source": [
    "def sumall(*x):          #가변길이 인자 받아서\n",
    "    x = tuple(sorted(x)) #들어오는 숫자를 정렬하고\n",
    "    ans = 0              #for문을 돌면서 합치자\n",
    "    for i in x:\n",
    "        ans+=i           #숫자 크기만큼 ans에 추가시켜서\n",
    "    return ans          #return"
   ]
  },
  {
   "cell_type": "code",
   "execution_count": 2,
   "metadata": {},
   "outputs": [
    {
     "data": {
      "text/plain": [
       "467"
      ]
     },
     "execution_count": 2,
     "metadata": {},
     "output_type": "execute_result"
    }
   ],
   "source": [
    "sumall(6, 324, 32, 3, 49, 4, 34, 12, 3)"
   ]
  },
  {
   "cell_type": "markdown",
   "metadata": {},
   "source": [
    "---\n",
    "### (#2) Ex12.2"
   ]
  },
  {
   "cell_type": "code",
   "execution_count": 3,
   "metadata": {},
   "outputs": [],
   "source": [
    "import random"
   ]
  },
  {
   "cell_type": "code",
   "execution_count": 4,
   "metadata": {},
   "outputs": [],
   "source": [
    "# 원래 함수 \n",
    "def sort_by_length(words):\n",
    "    t = []\n",
    "    for word in words:\n",
    "        t.append((len(word), word))\n",
    "\n",
    "    t.sort(reverse=True) #내림차순 정렬\n",
    "    #같은 길이의 단어는 역순으로 출력\n",
    "\n",
    "    res = []\n",
    "    for length, word in t:\n",
    "        res.append(word)\n",
    "    return res"
   ]
  },
  {
   "cell_type": "code",
   "execution_count": 5,
   "metadata": {},
   "outputs": [],
   "source": [
    "# 수정한 함수 (답안) \n",
    "def sort_by_length(words):\n",
    "    t = []\n",
    "    for word in words:\n",
    "        t.append((len(word), random.random(), word)) \n",
    "        # 원래 함수의 append에 random 추가 > 임의의 순서로 나타나도록\n",
    "\n",
    "    t.sort(reverse=True) #내림차순 정렬\n",
    "\n",
    "    res = []\n",
    "    for length, _, word in t:\n",
    "        res.append(word)\n",
    "    return res"
   ]
  },
  {
   "cell_type": "code",
   "execution_count": 6,
   "metadata": {},
   "outputs": [
    {
     "data": {
      "text/plain": [
       "['Michael', 'Graham', 'Terry', 'terry', 'John', 'Eric']"
      ]
     },
     "execution_count": 6,
     "metadata": {},
     "output_type": "execute_result"
    }
   ],
   "source": [
    "t=['John', 'Eric', 'Graham', 'Terry', 'terry', 'Michael']\n",
    "sort_by_length(t)"
   ]
  },
  {
   "cell_type": "markdown",
   "metadata": {},
   "source": [
    "---\n",
    "### (#3) Ex12.3"
   ]
  },
  {
   "cell_type": "code",
   "execution_count": 7,
   "metadata": {},
   "outputs": [],
   "source": [
    "def most_frequent(s):\n",
    "    d = dict() # 빈 딕셔너리를 정의하고\n",
    "    for i in s:\n",
    "        dict_val = d.get(i, 0) # fro문을 돌면서 d에  value가 없는 경우 추가해주고\n",
    "        d[i] = dict_val + 1 #있으면 count를 1 증가 \n",
    "    return d #최종 딕셔너리 반환"
   ]
  },
  {
   "cell_type": "code",
   "execution_count": 8,
   "metadata": {
    "scrolled": true
   },
   "outputs": [
    {
     "data": {
      "text/plain": [
       "{'I': 3,\n",
       " 't': 90,\n",
       " ' ': 243,\n",
       " 'i': 69,\n",
       " 's': 63,\n",
       " 'a': 75,\n",
       " 'r': 54,\n",
       " 'u': 26,\n",
       " 'h': 63,\n",
       " 'n': 74,\n",
       " 'v': 7,\n",
       " 'e': 115,\n",
       " 'l': 31,\n",
       " 'y': 19,\n",
       " 'c': 10,\n",
       " 'k': 9,\n",
       " 'o': 76,\n",
       " 'w': 20,\n",
       " 'd': 38,\n",
       " 'g': 20,\n",
       " 'm': 24,\n",
       " 'p': 7,\n",
       " 'f': 25,\n",
       " 'b': 10,\n",
       " '.': 16,\n",
       " 'H': 1,\n",
       " ',': 11,\n",
       " 'x': 2,\n",
       " '\"': 19,\n",
       " 'M': 10,\n",
       " 'B': 5,\n",
       " 'N': 2,\n",
       " 'P': 1,\n",
       " '?': 4,\n",
       " ';': 3,\n",
       " 'L': 2,\n",
       " 'j': 2,\n",
       " 'D': 1,\n",
       " 'Y': 1,\n",
       " 'T': 1,\n",
       " 'W': 2,\n",
       " 'E': 1}"
      ]
     },
     "execution_count": 8,
     "metadata": {},
     "output_type": "execute_result"
    }
   ],
   "source": [
    "s = 'It is a truth universally acknowledged that a single man in possession of a good forturn must be in want of a wife. However little known the feelings or view of such a man may be on his first entering a neighbourhood, this truth is so well fixed in the minds of the surrounding families that he is considered as the rightful property of some one or other of their daughters.\" My dear Mr. Bennet,\" said his lady to him one day, \"have you heard that Netherfield Park is let at last?\" Mr. Bennet replied that he had not. But it is,\" returned she; \"for Mrs. Long has just been here, and she told me all about it.\" Mr.Bennet made no answer. \" Do not you want to know who has taken it?\" cried his wife impatiently. \" You want to tell me, and I have no objection to hearing it.\" This was invitation enough. \"Why, my dear, you must know, Mrs. Long says that Netherfield is taken by a young man of large fortune from the north of England; that he came down on Monday in a chaise and four to see the place, and was so much delighted with it that he agreed with Mr. Morris immediately; that he is to take possession before Michaelmas, and some of his servants are to be in the house by the end of next week.\" \"What is his name?\" \"Bingley.\" \"Is he married or single?\"'\n",
    "most_frequent(s)"
   ]
  },
  {
   "cell_type": "code",
   "execution_count": 9,
   "metadata": {},
   "outputs": [],
   "source": [
    "# 비교를 보다 쉽게 하기 위해 key값으로 쓸 함수를 추가로 정의\n",
    "# 그냥 most_frequent(s)도 \n",
    "def f1(x):\n",
    "    return x[1]"
   ]
  },
  {
   "cell_type": "markdown",
   "metadata": {},
   "source": [
    "오만과 편견 챕터1의 영어, 스페인어 글자 수를 세자"
   ]
  },
  {
   "cell_type": "code",
   "execution_count": 10,
   "metadata": {
    "scrolled": true
   },
   "outputs": [
    {
     "data": {
      "text/plain": [
       "[(' ', 243),\n",
       " ('e', 115),\n",
       " ('t', 90),\n",
       " ('o', 76),\n",
       " ('a', 75),\n",
       " ('n', 74),\n",
       " ('i', 69),\n",
       " ('s', 63),\n",
       " ('h', 63),\n",
       " ('r', 54),\n",
       " ('d', 38),\n",
       " ('l', 31),\n",
       " ('u', 26),\n",
       " ('f', 25),\n",
       " ('m', 24),\n",
       " ('w', 20),\n",
       " ('g', 20),\n",
       " ('y', 19),\n",
       " ('\"', 19),\n",
       " ('.', 16),\n",
       " (',', 11),\n",
       " ('c', 10),\n",
       " ('b', 10),\n",
       " ('M', 10),\n",
       " ('k', 9),\n",
       " ('v', 7),\n",
       " ('p', 7),\n",
       " ('B', 5),\n",
       " ('?', 4),\n",
       " ('I', 3),\n",
       " (';', 3),\n",
       " ('x', 2),\n",
       " ('N', 2),\n",
       " ('L', 2),\n",
       " ('j', 2),\n",
       " ('W', 2),\n",
       " ('H', 1),\n",
       " ('P', 1),\n",
       " ('D', 1),\n",
       " ('Y', 1),\n",
       " ('T', 1),\n",
       " ('E', 1)]"
      ]
     },
     "execution_count": 10,
     "metadata": {},
     "output_type": "execute_result"
    }
   ],
   "source": [
    "# english\n",
    "s = 'It is a truth universally acknowledged that a single man in possession of a good forturn must be in want of a wife. However little known the feelings or view of such a man may be on his first entering a neighbourhood, this truth is so well fixed in the minds of the surrounding families that he is considered as the rightful property of some one or other of their daughters.\" My dear Mr. Bennet,\" said his lady to him one day, \"have you heard that Netherfield Park is let at last?\" Mr. Bennet replied that he had not. But it is,\" returned she; \"for Mrs. Long has just been here, and she told me all about it.\" Mr.Bennet made no answer. \" Do not you want to know who has taken it?\" cried his wife impatiently. \" You want to tell me, and I have no objection to hearing it.\" This was invitation enough. \"Why, my dear, you must know, Mrs. Long says that Netherfield is taken by a young man of large fortune from the north of England; that he came down on Monday in a chaise and four to see the place, and was so much delighted with it that he agreed with Mr. Morris immediately; that he is to take possession before Michaelmas, and some of his servants are to be in the house by the end of next week.\" \"What is his name?\" \"Bingley.\" \"Is he married or single?\"'\n",
    "s = most_frequent(s)\n",
    "sorted(s.items(), key=f1, reverse=True)"
   ]
  },
  {
   "cell_type": "code",
   "execution_count": 11,
   "metadata": {
    "scrolled": true
   },
   "outputs": [
    {
     "data": {
      "text/plain": [
       "[(' ', 225),\n",
       " ('e', 142),\n",
       " ('a', 103),\n",
       " ('n', 85),\n",
       " ('o', 84),\n",
       " ('s', 72),\n",
       " ('r', 64),\n",
       " ('i', 57),\n",
       " ('u', 54),\n",
       " ('d', 51),\n",
       " ('t', 44),\n",
       " ('l', 42),\n",
       " ('c', 31),\n",
       " ('m', 23),\n",
       " ('q', 19),\n",
       " ('p', 19),\n",
       " ('.', 15),\n",
       " ('b', 13),\n",
       " ('ó', 13),\n",
       " ('\"', 13),\n",
       " ('g', 12),\n",
       " (',', 12),\n",
       " ('v', 11),\n",
       " ('h', 9),\n",
       " ('f', 9),\n",
       " ('y', 8),\n",
       " ('í', 6),\n",
       " ('E', 5),\n",
       " ('j', 5),\n",
       " ('á', 4),\n",
       " ('B', 4),\n",
       " ('¿', 4),\n",
       " ('?', 4),\n",
       " ('S', 4),\n",
       " ('P', 3),\n",
       " ('M', 3),\n",
       " ('ñ', 3),\n",
       " ('N', 3),\n",
       " ('—', 3),\n",
       " ('L', 2),\n",
       " (';', 2),\n",
       " ('z', 1),\n",
       " ('k', 1),\n",
       " ('é', 1),\n",
       " ('G', 1),\n",
       " ('Q', 1),\n",
       " ('V', 1),\n",
       " ('I', 1),\n",
       " ('x', 1),\n",
       " ('C', 1)]"
      ]
     },
     "execution_count": 11,
     "metadata": {},
     "output_type": "execute_result"
    }
   ],
   "source": [
    "# spanish\n",
    "s = 'Es una verdad universalmente reconocida que un hombre soltero en posesión de una buena fortuna debe estar necesitado de una esposa. Por muy poco conocidos que sean los sentimientos o las opiniones de un hombre así cuando ingresa por primera vez a un vecindario, esta verdad está tan bien grabada en las mentes de las familias circundantes que se le considera como propiedad legítima de una u otra de sus hijas. \"Mi querido señor Bennet\", le dijo su señora un día, \"¿ha oído que Netherfield Park está alquilado por fin?\" El Sr. Bennet respondió que no. \"Pero lo es\", respondió ella, \"porque la Sra. Long acaba de estar aquí, y me lo contó todo.\" El señor Bennet no respondió. \"¿No quiere saber quién se lo ha llevado?\", Gritó su esposa. con impaciencia. \"Quieres decírmelo, y no tengo ninguna objeción a escucharlo.\" Esto fue una invitación suficiente. \"Vaya, querida, debes saber que la Sra. Long dice que Netherfield es tomado por un joven de gran fortuna de el norte de Inglaterra; que bajó el lunes en una tumbona y cuatro para ver el lugar, y quedó tan encantado que estuvo de acuerdo con el Sr. Morris inmediatamente; que tomará posesión antes de Michaelmas, y que algunos de sus sirvientes estarán en la casa a fines de la semana próxima. —¿Cómo se llama? —Bingley. —¿Es casado o soltero?'\n",
    "s = most_frequent(s)\n",
    "sorted(s.items(), key=f1, reverse=True)"
   ]
  },
  {
   "cell_type": "markdown",
   "metadata": {},
   "source": [
    "당연한 결과인 것 같긴 하지만 두 언어 모두 공백이 많다. 또한 e, a와 같은 모음의 빈도가 두드러지게 나타나는것 같다."
   ]
  },
  {
   "cell_type": "markdown",
   "metadata": {},
   "source": [
    "---\n",
    "### (#4) Ex14.2"
   ]
  },
  {
   "cell_type": "code",
   "execution_count": 12,
   "metadata": {},
   "outputs": [],
   "source": [
    "#14.2\n",
    "import os\n",
    "def sed(pattern, repl, a, b):\n",
    "    try :\n",
    "        fout = open(a, 'r') #읽기 모드로 open\n",
    "        ww = open(b, 'w') # 쓰기 모드로 open\n",
    "        lines = fout.readlines() \n",
    "        for line in lines: #for문을 돌면서 확인하자\n",
    "            if pattern in line:\n",
    "                line = line.replace(pattern, repl) #패턴과 일치하면 repl로 바꾸고 \n",
    "                ww.write(line) #바꾼 문자 작성\n",
    "            else:\n",
    "                ww.write(line) #일치하지 않는 경우는 그대로 작성\n",
    "        \n",
    "        #파일닫기\n",
    "        fout.close()\n",
    "        ww.close()\n",
    "    \n",
    "    except:\n",
    "        print ('Something went wrong.') #오류 출력"
   ]
  },
  {
   "cell_type": "code",
   "execution_count": 13,
   "metadata": {},
   "outputs": [],
   "source": [
    "sed( 'love','like' ,'eg1.txt', 'eg2.txt')"
   ]
  },
  {
   "cell_type": "code",
   "execution_count": 14,
   "metadata": {
    "scrolled": true
   },
   "outputs": [
    {
     "data": {
      "image/png": "[encoded data removed]",
      "text/plain": [
       "<IPython.core.display.Image object>"
      ]
     },
     "execution_count": 14,
     "metadata": {},
     "output_type": "execute_result"
    }
   ],
   "source": [
    "from IPython.display import Image\n",
    "Image('C:/Users/82104/Desktop/before.png') #실행전 "
   ]
  },
  {
   "cell_type": "code",
   "execution_count": 15,
   "metadata": {},
   "outputs": [
    {
     "data": {
      "image/png": "[encoded data removed]",
      "text/plain": [
       "<IPython.core.display.Image object>"
      ]
     },
     "execution_count": 15,
     "metadata": {},
     "output_type": "execute_result"
    }
   ],
   "source": [
    "Image('C:/Users/82104/Desktop/after.png') #실행후"
   ]
  },
  {
   "cell_type": "markdown",
   "metadata": {},
   "source": [
    "---\n",
    "### (#5) "
   ]
  },
  {
   "cell_type": "code",
   "execution_count": 16,
   "metadata": {},
   "outputs": [],
   "source": [
    "def fun_abs():\n",
    "    while True:\n",
    "        try:\n",
    "            x = float(input(\"Please enter a number: \")) #입력받아서 \n",
    "            print(abs(x)) #절댓값 출력\n",
    "            break #탈출\n",
    "        except ValueError: #입력값이 숫자가 아니면 (ValueError)\n",
    "            print(\"Oops!  That was no valid number.  Try again...\") #경고출력"
   ]
  },
  {
   "cell_type": "code",
   "execution_count": 17,
   "metadata": {},
   "outputs": [
    {
     "name": "stdout",
     "output_type": "stream",
     "text": [
      "Please enter a number: rfg\n",
      "Oops!  That was no valid number.  Try again...\n",
      "Please enter a number: ------\n",
      "Oops!  That was no valid number.  Try again...\n",
      "Please enter a number: -4.3\n",
      "4.3\n"
     ]
    }
   ],
   "source": [
    "fun_abs()"
   ]
  }
 ],
 "metadata": {
  "kernelspec": {
   "display_name": "Python 3",
   "language": "python",
   "name": "python3"
  },
  "language_info": {
   "codemirror_mode": {
    "name": "ipython",
    "version": 3
   },
   "file_extension": ".py",
   "mimetype": "text/x-python",
   "name": "python",
   "nbconvert_exporter": "python",
   "pygments_lexer": "ipython3",
   "version": "3.7.7"
  }
 },
 "nbformat": 4,
 "nbformat_minor": 4
}
