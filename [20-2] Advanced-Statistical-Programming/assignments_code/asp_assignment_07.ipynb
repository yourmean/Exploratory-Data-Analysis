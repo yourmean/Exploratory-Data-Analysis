{
 "cells": [
  {
   "cell_type": "markdown",
   "metadata": {},
   "source": [
    "### 고급통계프로그래밍 # 7\n",
    "\n",
    "### 2017580034 통계학과 이유민"
   ]
  },
  {
   "cell_type": "markdown",
   "metadata": {},
   "source": [
    "---\n",
    "### (#1) Ex15.1"
   ]
  },
  {
   "cell_type": "code",
   "execution_count": 1,
   "metadata": {
    "scrolled": true
   },
   "outputs": [
    {
     "name": "stdout",
     "output_type": "stream",
     "text": [
      "x1: 3\n",
      "y1: 4\n",
      "x2: 2\n",
      "y2: 6\n",
      "2.23606797749979\n"
     ]
    }
   ],
   "source": [
    "# module import \n",
    "from random import randint\n",
    "from math import sqrt\n",
    "\n",
    "# class Point 정의 \n",
    "class Point:\n",
    "    def __init__(self): #x1, x2, y1, y2 정의\n",
    "        self.x1, self.y1 = 0, 0\n",
    "        self.x2, self.y2 = 0, 0\n",
    "        self.d = 0\n",
    "        \n",
    "    def distance_between_points(self):\n",
    "        self.x1, self.y1 = int(input('x1: ')), int(input('y1: ')) #point1 입력\n",
    "        self.x2, self.y2 = int(input('x2: ')), int(input('y2: ')) #point2 입력\n",
    "        self.d = sqrt((self.x1-self.x2)**2 + (self.y1-self.y2)**2) \n",
    "        #거리공식으로 거리 구함\n",
    "        \n",
    "\n",
    "def main():\n",
    "    p = Point()\n",
    "    p.distance_between_points() #point 잡고 함수 실행\n",
    "    print(p.d) # 거리 출력\n",
    "\n",
    "main()"
   ]
  },
  {
   "cell_type": "markdown",
   "metadata": {},
   "source": [
    "---\n",
    "### (#2) Ex15.2"
   ]
  },
  {
   "cell_type": "code",
   "execution_count": 2,
   "metadata": {},
   "outputs": [],
   "source": [
    "# class Point1 정의\n",
    "class Point1:\n",
    "    def __init__(self):\n",
    "        self.x = 0\n",
    "        self.y = 0"
   ]
  },
  {
   "cell_type": "code",
   "execution_count": 3,
   "metadata": {},
   "outputs": [],
   "source": [
    "from copy import deepcopy\n",
    "\n",
    "class Rectangle:\n",
    "\n",
    "    def __init__(self, dx, dy): #dx, dy 받고\n",
    "        self.dx = dx\n",
    "        self.dy = dy\n",
    "        self.corner = Point1()\n",
    "        self.corner.x = 0\n",
    "        self.corner.y = 0\n",
    "    \n",
    "    def move_rectangle(self):\n",
    "\n",
    "        self.corner.x += self.dx #x좌표 변경\n",
    "        self.corner.y += self.dy #y좌표 변경"
   ]
  },
  {
   "cell_type": "code",
   "execution_count": 4,
   "metadata": {
    "scrolled": true
   },
   "outputs": [
    {
     "name": "stdout",
     "output_type": "stream",
     "text": [
      "4 8\n"
     ]
    }
   ],
   "source": [
    "def main():\n",
    "    s1 = Rectangle(4, 8) # (3,8)을 예로 실행\n",
    "    s1.move_rectangle() #함수 실행\n",
    "    print(s1.corner.x, s1.corner.y) #corner의 각 좌표에 더한 값 각각출력\n",
    "main()"
   ]
  },
  {
   "cell_type": "markdown",
   "metadata": {},
   "source": [
    "---\n",
    "### (#3) Ex15.3"
   ]
  },
  {
   "cell_type": "code",
   "execution_count": 5,
   "metadata": {},
   "outputs": [],
   "source": [
    "from copy import deepcopy\n",
    "\n",
    "class Rectangle:\n",
    "\n",
    "    def __init__(self, dx, dy):\n",
    "        self.dx = dx\n",
    "        self.dy = dy\n",
    "        self.corner = Point1()\n",
    "        self.corner.x = 0\n",
    "        self.corner.y = 0\n",
    "    \n",
    "    def move_rectangle(self):\n",
    "        self.corner.x += self.dx #x좌표 변경\n",
    "        self.corner.y += self.dy #y좌표 변경"
   ]
  },
  {
   "cell_type": "code",
   "execution_count": 6,
   "metadata": {},
   "outputs": [
    {
     "name": "stdout",
     "output_type": "stream",
     "text": [
      "4\n",
      "4\n"
     ]
    },
    {
     "data": {
      "text/plain": [
       "False"
      ]
     },
     "execution_count": 6,
     "metadata": {},
     "output_type": "execute_result"
    }
   ],
   "source": [
    "rect = Rectangle(4, 8) #(4,8)을 예로\n",
    "rect.move_rectangle() #move_rectangle 실행\n",
    "move_rectangle = deepcopy(rect)\n",
    "#값 비교\n",
    "print(move_rectangle.corner.x)\n",
    "print(rect.corner.x)\n",
    "move_rectangle is rect #false"
   ]
  },
  {
   "cell_type": "markdown",
   "metadata": {},
   "source": [
    "---"
   ]
  },
  {
   "cell_type": "markdown",
   "metadata": {},
   "source": [
    "---\n",
    "### (#4) Ex16.6"
   ]
  },
  {
   "cell_type": "code",
   "execution_count": 7,
   "metadata": {},
   "outputs": [],
   "source": [
    "# Time class 정의\n",
    "class Time(object):\n",
    "    \"\"\"Represents the time of day.\n",
    "\n",
    "    attributes: hour, minute, second\n",
    "    \"\"\""
   ]
  },
  {
   "cell_type": "code",
   "execution_count": 8,
   "metadata": {},
   "outputs": [],
   "source": [
    "# 예시 \n",
    "time = Time()\n",
    "time.hour = 11\n",
    "time.minute = 59\n",
    "time.second = 30"
   ]
  },
  {
   "cell_type": "code",
   "execution_count": 9,
   "metadata": {},
   "outputs": [],
   "source": [
    "def mul_time(t1, n):\n",
    "    sum=Time()\n",
    "    sum.hour=t1.hour*n\n",
    "    sum.minute=t1.minute*n\n",
    "    sum.second=t1.second*n\n",
    "    \n",
    "    # 60초=1분, 60분=1시간으로 바꾸고 바꾼 후에 -60초, -60분 해줌\n",
    "    if sum.second >= 60:\n",
    "        sum.second-=60\n",
    "        sum.minute+=1\n",
    "    if sum.minute >= 60:\n",
    "        sum.minute-=60\n",
    "        sum.hour+=1\n",
    "    return sum"
   ]
  },
  {
   "cell_type": "code",
   "execution_count": 10,
   "metadata": {},
   "outputs": [
    {
     "name": "stdout",
     "output_type": "stream",
     "text": [
      "Time is 34:118:30\n"
     ]
    }
   ],
   "source": [
    "a = mul_time(time, 3)\n",
    "print('Time is %d:%d:%d' %(a.hour, a.minute, a.second))"
   ]
  },
  {
   "cell_type": "code",
   "execution_count": 11,
   "metadata": {},
   "outputs": [
    {
     "name": "stdout",
     "output_type": "stream",
     "text": [
      "Time is 1:6:13\n"
     ]
    }
   ],
   "source": [
    "t=Time()\n",
    "t.hour=3\n",
    "t.minute=20\n",
    "t.second=40\n",
    "aa=mul_time(t, 1/3) #3 miles during 3 hours 20 minutes 40 seconds\n",
    "print('Time is %d:%d:%d' %(aa.hour, aa.minute, aa.second))\n",
    "#per mile, 1시간 6분 13초"
   ]
  },
  {
   "cell_type": "markdown",
   "metadata": {},
   "source": [
    "---\n",
    "### (#5) Ex16.7 (1)-(2)"
   ]
  },
  {
   "cell_type": "code",
   "execution_count": 12,
   "metadata": {},
   "outputs": [],
   "source": [
    "# 16.7 - 1\n",
    "import datetime\n",
    "\n",
    "x = datetime.datetime.now() #현재시각\n",
    "y = int(x.strftime('%y')) #년\n",
    "m = int(x.strftime('%m')) #월\n",
    "d = int(x.strftime('%d')) #일\n",
    "\n",
    "dt = ['MON', 'TUE', 'WED', 'THU', 'FRI', 'SAT', 'SUN'] #요일\n",
    "\n",
    "def print_day(y, m, d):\n",
    "    day1 = datetime.date(y, m, d)\n",
    "    print(dt[day1.weekday()]) #요일 출력"
   ]
  },
  {
   "cell_type": "code",
   "execution_count": 13,
   "metadata": {},
   "outputs": [
    {
     "name": "stdout",
     "output_type": "stream",
     "text": [
      "WED\n"
     ]
    }
   ],
   "source": [
    "# 확인\n",
    "print_day(y, m, d)"
   ]
  },
  {
   "cell_type": "code",
   "execution_count": 14,
   "metadata": {},
   "outputs": [
    {
     "name": "stdout",
     "output_type": "stream",
     "text": [
      "the year of birth: 1997\n",
      "the month of birth: 1\n",
      "the date of birth: 12\n",
      "23\n",
      "68 days, 0:47:04.086208\n"
     ]
    }
   ],
   "source": [
    "# 16.7 - 2\n",
    "from datetime import date, datetime\n",
    "\n",
    "# 생일 정보\n",
    "def d_bir(a,b,c):\n",
    "    dd = datetime.now()\n",
    "    db=datetime(a,b,c)\n",
    "    ye=dd.year-db.year\n",
    "    return ye\n",
    "\n",
    "# 현재 정보\n",
    "def d_day(a,b,c):\n",
    "    dd=datetime.now()\n",
    "    # 11월 전 생일이면 2021년에 생일 돌아옴\n",
    "    if b<11:\n",
    "        db=datetime(2021,b,c)\n",
    "    #11월 후는 2020년에\n",
    "    else:\n",
    "        db=datetime(2020, b, c)\n",
    "    print (db-dd)\n",
    "\n",
    "def main():\n",
    "    # 생년/월/일 입력받음\n",
    "    a = int(input('the year of birth: '))\n",
    "    b = int(input('the month of birth: '))\n",
    "    c = int(input('the date of birth: '))\n",
    "    print(d_bir(a,b,c)) #나이\n",
    "    d_day(a,b,c) #다음 생일까지 남은 날짜/시/분/초\n",
    "main()"
   ]
  }
 ],
 "metadata": {
  "kernelspec": {
   "display_name": "Python 3",
   "language": "python",
   "name": "python3"
  },
  "language_info": {
   "codemirror_mode": {
    "name": "ipython",
    "version": 3
   },
   "file_extension": ".py",
   "mimetype": "text/x-python",
   "name": "python",
   "nbconvert_exporter": "python",
   "pygments_lexer": "ipython3",
   "version": "3.7.7"
  }
 },
 "nbformat": 4,
 "nbformat_minor": 4
}
