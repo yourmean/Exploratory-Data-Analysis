{
 "cells": [
  {
   "cell_type": "markdown",
   "metadata": {},
   "source": [
    "### 고급통계프로그래밍 # 8\n",
    "\n",
    "### 2017580034 통계학과 이유민"
   ]
  },
  {
   "cell_type": "markdown",
   "metadata": {},
   "source": [
    "---\n",
    "### (#1) Ex17.2\n",
    "x 와 y를 선택적인 매개변수로 받아서 해당 애트리뷰트에 대입하도록 Point 클래스의 init 메쏘드를 작성하세요."
   ]
  },
  {
   "cell_type": "code",
   "execution_count": 1,
   "metadata": {},
   "outputs": [],
   "source": [
    "class Point:\n",
    "    def __init__(self, x=0, y=0): #init method\n",
    "        self.x = x #x,y를 해당 애트리뷰트에 대입\n",
    "        self.y = y "
   ]
  },
  {
   "cell_type": "markdown",
   "metadata": {},
   "source": [
    "---\n",
    "### (#2) Ex17.3\n",
    "\n",
    "Point 클래스의 str 메쏘드를 작성하세요. Point 객체를 만들고 인쇄하세요."
   ]
  },
  {
   "cell_type": "code",
   "execution_count": 2,
   "metadata": {},
   "outputs": [],
   "source": [
    "class Point:\n",
    "    def __init__(self, x=0, y=0):\n",
    "        self.x = x\n",
    "        self.y = y\n",
    "    def __str__(self): # str method\n",
    "        return 'X is %2d and Y is %2d' %(self.x, self.y) #x,y좌표 return"
   ]
  },
  {
   "cell_type": "code",
   "execution_count": 3,
   "metadata": {},
   "outputs": [
    {
     "name": "stdout",
     "output_type": "stream",
     "text": [
      "X is  1 and Y is  5\n"
     ]
    }
   ],
   "source": [
    "p = Point(1,5)\n",
    "print(p) #Point 객체 print"
   ]
  },
  {
   "cell_type": "markdown",
   "metadata": {},
   "source": [
    "---\n",
    "### (#3) Ex17.4\n",
    "\n",
    "Point 클래스의 add 메쏘드를 작성하세요."
   ]
  },
  {
   "cell_type": "code",
   "execution_count": 4,
   "metadata": {},
   "outputs": [],
   "source": [
    "class Point:\n",
    "    def __init__(self, x=0, y=0):\n",
    "        self.x = x\n",
    "        self.y = y\n",
    "    def __str__(self):\n",
    "        return 'X is %2d and Y is %2d' %(self.x, self.y)\n",
    "    def __add__(self, other): #add method\n",
    "        x = self.x + other.x #x,y 각각에 add\n",
    "        y = self.y + other.y\n",
    "        return x,y"
   ]
  },
  {
   "cell_type": "code",
   "execution_count": 5,
   "metadata": {},
   "outputs": [
    {
     "name": "stdout",
     "output_type": "stream",
     "text": [
      "(3, 14)\n"
     ]
    }
   ],
   "source": [
    "p1 = Point(1,9)\n",
    "p2 = Point(2,5)\n",
    "print(p1+p2) #p1, p2 add 결과 print"
   ]
  },
  {
   "cell_type": "markdown",
   "metadata": {},
   "source": [
    "---\n",
    "### (#4) Ex17.5\n",
    "\n",
    "Point 객체나 튜플과 함께 쓸 수 있는 Point 의 add 메쏘드를 작성하세요:\n",
    "\n",
    "만약 두 번째 피 연산자가 Point 이면, 메쏘드는 x 좌표가 피 연산자들의 x 좌표들의 합이고, y 좌표도 마찬가지인 새 Point 를 돌려줘야 합니다.\n",
    "만약 두 번째 피 연산자가 튜플이면, 이 메쏘드는 튜플의 첫 번째 요소를 x 좌표에, 두번째 요소를 y 좌표에 더한 결과를 갖는 새 Point 를 돌려줘야 합니다."
   ]
  },
  {
   "cell_type": "code",
   "execution_count": 6,
   "metadata": {},
   "outputs": [],
   "source": [
    "class Point:\n",
    "    def __init__(self, x=0, y=0):\n",
    "        self.x = x\n",
    "        self.y = y\n",
    "    def __str__(self):\n",
    "        return 'X is %2d and Y is %2d' %(self.x, self.y)\n",
    "    def __add__(self, other):\n",
    "        if isinstance(other, Point): #두번째 피연산자가 Point \n",
    "            return Point(self.x+other.x, self.y+other.y) #x,y 각각의 좌표 합한 새 point\n",
    "        if isinstance(other, tuple): #두번째 피연산자가 tuple\n",
    "            other_x = other[0] # 튜플 첫번째 요소를 x좌표에\n",
    "            other_y = other[1] # 튜플 두번째 요소를 x좌표에\n",
    "            return Point(self.x+other.x, self.y+other.y) "
   ]
  },
  {
   "cell_type": "code",
   "execution_count": 7,
   "metadata": {},
   "outputs": [
    {
     "name": "stdout",
     "output_type": "stream",
     "text": [
      "X is  3 and Y is  7\n"
     ]
    }
   ],
   "source": [
    "p1 = Point(2,3)\n",
    "p2 = Point(1,4)\n",
    "print(p1+p2)"
   ]
  },
  {
   "cell_type": "markdown",
   "metadata": {},
   "source": [
    "---\n",
    "### (#5) Ex18.2\n",
    "\n",
    "리스트 메쏘드 sort 를 사용해서 Deck 에 있는 카드들을 정렬하는 Deck 메쏘드 sort를 작성하세요. sort 는 정렬 순서를 정하기 위해 정의한 __cmp__ 메쏘드를 사용합니다."
   ]
  },
  {
   "cell_type": "code",
   "execution_count": 8,
   "metadata": {},
   "outputs": [],
   "source": [
    "suit_names=['Clubs', 'Diamonds', 'Hearts', 'Spades']\n",
    "rank_names=[None, 'Ace', '2','3','4', '5','6','7','8','9','10','Jack','Queen', 'King']"
   ]
  },
  {
   "cell_type": "code",
   "execution_count": 9,
   "metadata": {},
   "outputs": [],
   "source": [
    "class Card:\n",
    "    def __init__(self, suit=0, rank=2):\n",
    "        self.suit=suit\n",
    "        self.rank=rank\n",
    "    def __str__(self):\n",
    "        return '%s of %s' %(rank_names[self.rank],\n",
    "                            suit_names[self.suit])\n",
    "    def cmp(self, other):\n",
    "         return (self>other) - (other>self)"
   ]
  },
  {
   "cell_type": "code",
   "execution_count": 10,
   "metadata": {},
   "outputs": [],
   "source": [
    "class Deck: #Deck에 있는 카드 정렬\n",
    "    def __init__(self):\n",
    "        self.cards=[] #card 애트리뷰트\n",
    "        for suit in range(4):\n",
    "            for rank in range(1,14):\n",
    "                card=Card(suit, rank)\n",
    "                self.cards.append(card)\n",
    "                #카드 52장 생성\n",
    "    def __str__(self):\n",
    "        res=[]\n",
    "        for card in self.cards:\n",
    "            res.append(str(card))\n",
    "        return '\\n'.join(res) #줄 넘김 문자로 표현\n",
    "     \n",
    "    def sort(self):  #Deck에 있는 카드들 정렬하는 sort method\n",
    "        self.cards.sort(Card.cmp) "
   ]
  },
  {
   "cell_type": "code",
   "execution_count": 11,
   "metadata": {
    "scrolled": true
   },
   "outputs": [
    {
     "name": "stdout",
     "output_type": "stream",
     "text": [
      "Ace of Clubs\n",
      "2 of Clubs\n",
      "3 of Clubs\n",
      "4 of Clubs\n",
      "5 of Clubs\n",
      "6 of Clubs\n",
      "7 of Clubs\n",
      "8 of Clubs\n",
      "9 of Clubs\n",
      "10 of Clubs\n",
      "Jack of Clubs\n",
      "Queen of Clubs\n",
      "King of Clubs\n",
      "Ace of Diamonds\n",
      "2 of Diamonds\n",
      "3 of Diamonds\n",
      "4 of Diamonds\n",
      "5 of Diamonds\n",
      "6 of Diamonds\n",
      "7 of Diamonds\n",
      "8 of Diamonds\n",
      "9 of Diamonds\n",
      "10 of Diamonds\n",
      "Jack of Diamonds\n",
      "Queen of Diamonds\n",
      "King of Diamonds\n",
      "Ace of Hearts\n",
      "2 of Hearts\n",
      "3 of Hearts\n",
      "4 of Hearts\n",
      "5 of Hearts\n",
      "6 of Hearts\n",
      "7 of Hearts\n",
      "8 of Hearts\n",
      "9 of Hearts\n",
      "10 of Hearts\n",
      "Jack of Hearts\n",
      "Queen of Hearts\n",
      "King of Hearts\n",
      "Ace of Spades\n",
      "2 of Spades\n",
      "3 of Spades\n",
      "4 of Spades\n",
      "5 of Spades\n",
      "6 of Spades\n",
      "7 of Spades\n",
      "8 of Spades\n",
      "9 of Spades\n",
      "10 of Spades\n",
      "Jack of Spades\n",
      "Queen of Spades\n",
      "King of Spades\n"
     ]
    }
   ],
   "source": [
    "card1=Card(2,11)\n",
    "card2=Card(1,12)\n",
    "d=Deck()\n",
    "print(d)"
   ]
  },
  {
   "cell_type": "markdown",
   "metadata": {},
   "source": [
    "---\n",
    "### (#6) Ex18.3\n",
    "\n",
    "두 개의 매개변수, 패를 든 사람의 수와 패당 카드 수,를 받아서 새 Hand 객체들을 만들고, 패마다 적당한 수의 카드를 나눈 다음, Hand 객체의 리스트를 돌려주는 Deck 이 메쏘드 deal_hands를 작성하세요."
   ]
  },
  {
   "cell_type": "code",
   "execution_count": 12,
   "metadata": {},
   "outputs": [],
   "source": [
    "class Card(object):\n",
    "    def __init__(self, suit=0, rank=2):\n",
    "        self.suit = suit\n",
    "        self.rank = rank\n",
    "        \n",
    "    suit_names = ['Clubs', 'Diamonds', 'Hearts', 'Spades']\n",
    "    rank_names = [None, 'Ace', '2', '3', '4', '5', '6', '7',\n",
    "                  '8', '9', '10', 'Jack', 'Queen', 'King']   \n",
    "    def __str__(self):\n",
    "        return '%s fo %s' % (Card.rank_names[self.rank],\n",
    "                            Card.suit_names[self.suit])"
   ]
  },
  {
   "cell_type": "code",
   "execution_count": 13,
   "metadata": {
    "scrolled": true
   },
   "outputs": [],
   "source": [
    "import random #for shuffle\n",
    "\n",
    "class Deck(object):\n",
    "\n",
    "    def __init__(self):\n",
    "        self.cards = []\n",
    "        for suit in range(4):\n",
    "            for rank in range(1, 14):\n",
    "                card = Card(suit, rank)\n",
    "                self.cards.append(card)\n",
    "                \n",
    "\n",
    "    def __str__(self):\n",
    "        res = []\n",
    "        for card in self.cards:\n",
    "            res.append(str(card))\n",
    "        return '\\n'.join(res)\n",
    "\n",
    "    def pop_card(self): #카드 나누기\n",
    "        return self.cards.pop() #list의 마지막 카드 제거 \n",
    "\n",
    "    def add_card(self, card): #카드 추가\n",
    "        self.cards.append(card)\n",
    "\n",
    "    def shuffle(self): #카드 shuffle\n",
    "        random.shuffle(self.cards)\n",
    "\n",
    "    def move_cards(self, hand, num): # num:나눌 카드 수 \n",
    "        for i in range(num):\n",
    "            hand.add_card(self.pop_card()) #self / hand 수정 > 마지막에는None return \n",
    "            \n",
    "    def deal_hands(self, nhand, ncard): #nhand:사람수, ncard: 카드수\n",
    "        for i in range(nhand):\n",
    "            hand=Hand(str(i)) #hand 객체 생성\n",
    "            for j in range(ncard):\n",
    "                hand.add_card(self.pop_card()) #패마다 적당한 수의 카드 나눔\n",
    "            print(hand) #hand object list print\n",
    "            print('------next person-------')"
   ]
  },
  {
   "cell_type": "code",
   "execution_count": 14,
   "metadata": {},
   "outputs": [],
   "source": [
    "class Hand(Deck):\n",
    "    def __init__(self, label=''):\n",
    "        self.cards = [] #cards 리스트 초기화\n",
    "        self.label = label"
   ]
  },
  {
   "cell_type": "code",
   "execution_count": 15,
   "metadata": {},
   "outputs": [
    {
     "name": "stdout",
     "output_type": "stream",
     "text": [
      "10 fo Hearts\n",
      "Ace fo Spades\n",
      "8 fo Diamonds\n",
      "King fo Spades\n",
      "Jack fo Clubs\n",
      "------next person-------\n",
      "9 fo Spades\n",
      "6 fo Diamonds\n",
      "2 fo Diamonds\n",
      "7 fo Hearts\n",
      "7 fo Diamonds\n",
      "------next person-------\n",
      "Jack fo Hearts\n",
      "7 fo Clubs\n",
      "Queen fo Diamonds\n",
      "Queen fo Spades\n",
      "10 fo Diamonds\n",
      "------next person-------\n",
      "10 fo Spades\n",
      "5 fo Hearts\n",
      "5 fo Spades\n",
      "Jack fo Spades\n",
      "6 fo Spades\n",
      "------next person-------\n"
     ]
    }
   ],
   "source": [
    "d=Deck()\n",
    "d.shuffle()\n",
    "d.deal_hands(4,5)\n",
    "#4 person 5 cards each"
   ]
  }
 ],
 "metadata": {
  "kernelspec": {
   "display_name": "Python 3",
   "language": "python",
   "name": "python3"
  },
  "language_info": {
   "codemirror_mode": {
    "name": "ipython",
    "version": 3
   },
   "file_extension": ".py",
   "mimetype": "text/x-python",
   "name": "python",
   "nbconvert_exporter": "python",
   "pygments_lexer": "ipython3",
   "version": "3.7.7"
  }
 },
 "nbformat": 4,
 "nbformat_minor": 4
}
